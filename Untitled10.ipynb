{
  "nbformat": 4,
  "nbformat_minor": 0,
  "metadata": {
    "colab": {
      "provenance": [],
      "mount_file_id": "1EWMtyZtDiMsAr0Hl7c6SfpjxmaMEHZxI",
      "authorship_tag": "ABX9TyNp+iXBkryJmORQTjUF9Cwy",
      "include_colab_link": true
    },
    "kernelspec": {
      "name": "python3",
      "display_name": "Python 3"
    },
    "language_info": {
      "name": "python"
    }
  },
  "cells": [
    {
      "cell_type": "markdown",
      "metadata": {
        "id": "view-in-github",
        "colab_type": "text"
      },
      "source": [
        "<a href=\"https://colab.research.google.com/github/JomanaAhmed275/Mobile_App_Reviews_Classification/blob/main/Untitled10.ipynb\" target=\"_parent\"><img src=\"https://colab.research.google.com/assets/colab-badge.svg\" alt=\"Open In Colab\"/></a>"
      ]
    },
    {
      "cell_type": "code",
      "execution_count": 5,
      "metadata": {
        "colab": {
          "base_uri": "https://localhost:8080/",
          "height": 731
        },
        "id": "OJskoURXvcUH",
        "outputId": "2665329b-81e8-4078-da23-ffbd4a54cff7"
      },
      "outputs": [
        {
          "output_type": "stream",
          "name": "stdout",
          "text": [
            "Drive already mounted at /content/drive; to attempt to forcibly remount, call drive.mount(\"/content/drive\", force_remount=True).\n"
          ]
        },
        {
          "output_type": "display_data",
          "data": {
            "text/plain": [
              "<Figure size 600x400 with 1 Axes>"
            ],
            "image/png": "[encoded data removed]"
          },
          "metadata": {}
        },
        {
          "output_type": "stream",
          "name": "stdout",
          "text": [
            "Logistic Regression - Accuracy: 0.5074074074074074\n",
            "Precision: 0.5234375\n",
            "Recall: 0.48201438848920863\n",
            "\n",
            "Decision Tree - Accuracy: 0.44074074074074077\n",
            "Precision: 0.4583333333333333\n",
            "Recall: 0.4748201438848921\n",
            "\n",
            "Final  Accuracy (Logistic Regression): 0.5313653136531366\n"
          ]
        },
        {
          "output_type": "stream",
          "name": "stderr",
          "text": [
            "/usr/local/lib/python3.11/dist-packages/sklearn/linear_model/_logistic.py:465: ConvergenceWarning: lbfgs failed to converge (status=1):\n",
            "STOP: TOTAL NO. OF ITERATIONS REACHED LIMIT.\n",
            "\n",
            "Increase the number of iterations (max_iter) or scale the data as shown in:\n",
            "    https://scikit-learn.org/stable/modules/preprocessing.html\n",
            "Please also refer to the documentation for alternative solver options:\n",
            "    https://scikit-learn.org/stable/modules/linear_model.html#logistic-regression\n",
            "  n_iter_i = _check_optimize_result(\n"
          ]
        }
      ],
      "source": [
        "from google.colab import drive\n",
        "drive.mount('/content/drive')\n",
        "\n",
        "import pandas as pd\n",
        "import numpy as np\n",
        "import matplotlib.pyplot as plt\n",
        "import seaborn as sns\n",
        "from sklearn.model_selection import train_test_split\n",
        "from sklearn.linear_model import LogisticRegression, LinearRegression\n",
        "from sklearn.tree import DecisionTreeClassifier\n",
        "from sklearn.metrics import accuracy_score, precision_score, recall_score, mean_squared_error, mean_absolute_error\n",
        "\n",
        "file_path = \"/content/drive/MyDrive/multilingual_mobile_app_reviews_2025.csv\"\n",
        "df = pd.read_csv(file_path)\n",
        "\n",
        "df = df[df.notnull().all(axis=1)]\n",
        "\n",
        "df['rating_label'] = df['rating'].apply(lambda x: 1 if x >= 3 else 0)\n",
        "\n",
        "X = df.drop(columns=['rating', 'rating_label', 'review_text', 'review_date'])\n",
        "X = pd.get_dummies(X, drop_first=True)\n",
        "y = df['rating_label']\n",
        "\n",
        "X_train, X_temp, y_train, y_temp = train_test_split(X, y, test_size=0.3, random_state=42)\n",
        "X_val, X_test, y_val, y_test = train_test_split(X_temp, y_temp, test_size=0.5, random_state=42)\n",
        "\n",
        "plt.figure(figsize=(6,4))\n",
        "sns.countplot(x=y)\n",
        "plt.title(\"Positive vs Negative Ratings\")\n",
        "plt.show()\n",
        "\n",
        "log_model = LogisticRegression(max_iter=200)\n",
        "log_model.fit(X_train, y_train)\n",
        "y_pred_log = log_model.predict(X_val)\n",
        "print(\"Logistic Regression - Accuracy:\", accuracy_score(y_val, y_pred_log))\n",
        "print(\"Precision:\", precision_score(y_val, y_pred_log))\n",
        "print(\"Recall:\", recall_score(y_val, y_pred_log))\n",
        "\n",
        "tree_model = DecisionTreeClassifier()\n",
        "tree_model.fit(X_train, y_train)\n",
        "y_pred_tree = tree_model.predict(X_val)\n",
        "print(\"\\nDecision Tree - Accuracy:\", accuracy_score(y_val, y_pred_tree))\n",
        "print(\"Precision:\", precision_score(y_val, y_pred_tree))\n",
        "print(\"Recall:\", recall_score(y_val, y_pred_tree))\n",
        "\n",
        "final_pred = log_model.predict(X_test)\n",
        "print(\"\\nFinal  Accuracy (Logistic Regression):\", accuracy_score(y_test, final_pred))"
      ]
    }
  ]
}